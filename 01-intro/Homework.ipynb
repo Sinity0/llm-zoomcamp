{
 "cells": [
  {
   "cell_type": "code",
   "execution_count": 1,
   "id": "3149fb73-a9a5-486d-af22-c602cfa2b1ff",
   "metadata": {},
   "outputs": [],
   "source": [
    "import openai"
   ]
  },
  {
   "cell_type": "code",
   "execution_count": 2,
   "id": "800ccfbe-2de4-496f-88f5-8247c604c6d1",
   "metadata": {},
   "outputs": [],
   "source": [
    "from openai import OpenAI"
   ]
  },
  {
   "cell_type": "code",
   "execution_count": 3,
   "id": "2f455ed9-b679-4080-9660-b246031f9db2",
   "metadata": {},
   "outputs": [],
   "source": [
    "client = OpenAI()"
   ]
  },
  {
   "cell_type": "code",
   "execution_count": 4,
   "id": "3add7715-e416-4bbc-b292-c55e0501564a",
   "metadata": {},
   "outputs": [],
   "source": [
    "import os"
   ]
  },
  {
   "cell_type": "code",
   "execution_count": 6,
   "id": "4e74aba8-2b22-4c48-bcfc-1868e0beb28b",
   "metadata": {},
   "outputs": [],
   "source": [
    "response = client.chat.completions.create(\n",
    "    model='gpt-4o',\n",
    "    messages=[{\"role\": \"user\", \"content\": \"how do I cook a burger?\"}]\n",
    ")"
   ]
  },
  {
   "cell_type": "code",
   "execution_count": 9,
   "id": "77daf061-ad11-407d-bb43-3f2c9778b41a",
   "metadata": {},
   "outputs": [
    {
     "data": {
      "text/plain": [
       "'Cooking a burger can be simple and straightforward! Here’s a step-by-step guide to help you cook a delicious, basic burger:\\n\\n### Ingredients:\\n- Ground beef (80/20 blend for a good fat ratio is common)\\n- Salt\\n- Pepper\\n- Burger buns\\n- Butter (optional)\\n- Cheese slices (optional)\\n- Toppings such as lettuce, tomato, onions, pickles, ketchup, and mustard (optional)\\n\\n### Equipment:\\n- Skillet, grill, or frying pan\\n- Spatula\\n\\n### Instructions:\\n\\n1. **Prepare the patties:**\\n   - Divide the ground beef into equal portions. Typically, 4 to 6 ounces per patty is common.\\n   - Gently form the beef into balls, then flatten them into patties about 1/2 inch thick. Make a slight indent in the center of each patty to prevent them from puffing up while cooking.\\n\\n2. **Season:**\\n   - Sprinkle both sides of the patties with salt and pepper. Add other seasonings if desired.\\n\\n3. **Preheat your cooking surface:**\\n   - **Grill:** Preheat to medium-high heat.\\n   - **Skillet/Frying Pan:** Heat over medium-high heat until hot.\\n\\n4. **Cook the patties:**\\n   - **Grill:** Place the patties on the grill. Cook for about 4-5 minutes on each side for medium doneness (add or subtract time for rarer or more well-done burgers). Flip only once.\\n   - **Skillet/Frying Pan:** Add a small amount of oil if your pan is not non-stick. Place the patties in the pan and cook for 4-5 minutes on each side for medium doneness. Avoid pressing down on the patties with the spatula to keep them juicy.\\n\\n5. **Add cheese (optional):**\\n   - If you’re making cheeseburgers, place a slice of cheese on each patty during the last minute of cooking. Close the grill lid or cover the skillet with a lid to help melt the cheese.\\n\\n6. **Toast the buns (optional):**\\n   - Spread a little butter on the cut sides of the burger buns. Place them on the grill or in the skillet for 1-2 minutes, or until they are toasted and golden brown.\\n\\n7. **Assemble the burgers:**\\n   - Place the cooked patties on the bottom halves of the buns. Add your favorite toppings (lettuce, tomato, onions, pickles, etc.). Spread condiments like ketchup, mustard, or mayonnaise on the top half of the buns. Close the burgers with the top halves of the buns.\\n\\n8. **Serve:**\\n   - Serve the burgers immediately with your choice of sides, such as fries, a salad, or coleslaw. Enjoy!\\n\\n### Tips:\\n- **Ground Beef:** Use freshly ground beef for the best flavor and juiciness.\\n- **Temperature:** An internal temperature of 160°F (71°C) for beef burgers is recommended by the USDA if you want to ensure they are safely cooked.\\n- **Variations:** Experiment with different types of cheese, sauces, and toppings to find your perfect combination.\\n\\nEnjoy your homemade burger!'"
      ]
     },
     "execution_count": 9,
     "metadata": {},
     "output_type": "execute_result"
    }
   ],
   "source": [
    "response.choices[0].message.content"
   ]
  }
 ],
 "metadata": {
  "kernelspec": {
   "display_name": "Python 3 (ipykernel)",
   "language": "python",
   "name": "python3"
  },
  "language_info": {
   "codemirror_mode": {
    "name": "ipython",
    "version": 3
   },
   "file_extension": ".py",
   "mimetype": "text/x-python",
   "name": "python",
   "nbconvert_exporter": "python",
   "pygments_lexer": "ipython3",
   "version": "3.10.13"
  }
 },
 "nbformat": 4,
 "nbformat_minor": 5
}
