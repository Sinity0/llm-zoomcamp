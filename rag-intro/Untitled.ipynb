{
 "cells": [
  {
   "cell_type": "code",
   "execution_count": null,
   "id": "07eed207-bbd2-47d3-ae28-f986928a2f82",
   "metadata": {},
   "outputs": [],
   "source": [
    "!wget https://raw.githubusercontent.com/alexeygrigorev/minsearch/main/minsearch.py"
   ]
  },
  {
   "cell_type": "code",
   "execution_count": 1,
   "id": "6ce5b98c-0d59-489b-a8df-da6ed03b7e35",
   "metadata": {},
   "outputs": [],
   "source": [
    "import minsearch"
   ]
  },
  {
   "cell_type": "code",
   "execution_count": null,
   "id": "ba233bc0-d773-4faf-912d-0032b05ba04a",
   "metadata": {},
   "outputs": [],
   "source": [
    "!wget https://raw.githubusercontent.com/DataTalksClub/llm-zoomcamp/main/01-intro/documents.json"
   ]
  },
  {
   "cell_type": "code",
   "execution_count": 2,
   "id": "465ac561-3d63-498b-84ae-ec585219d5d8",
   "metadata": {},
   "outputs": [],
   "source": [
    "import json"
   ]
  },
  {
   "cell_type": "code",
   "execution_count": 3,
   "id": "22b308e6-d50a-43ec-b5f2-eeca224cd28d",
   "metadata": {},
   "outputs": [],
   "source": [
    "with open('documents.json', 'rt') as f_in:\n",
    "    docs_raw = json.load(f_in)"
   ]
  },
  {
   "cell_type": "code",
   "execution_count": 4,
   "id": "1d755b31-245e-48e8-ab7e-5b8c597a6159",
   "metadata": {},
   "outputs": [],
   "source": [
    "documents = []\n",
    "\n",
    "for cource_dict in docs_raw:\n",
    "    for doc in cource_dict['documents']:\n",
    "        doc['course'] = cource_dict['course']\n",
    "        documents.append(doc)\n",
    "        "
   ]
  },
  {
   "cell_type": "code",
   "execution_count": 5,
   "id": "e424eb2a-9c01-4fc2-9c52-725716a5ced9",
   "metadata": {},
   "outputs": [],
   "source": [
    "index = minsearch.Index(\n",
    "    text_fields=[\"question\", \"text\", \"section\"],\n",
    "    keyword_fields=[\"course\"]\n",
    ")"
   ]
  },
  {
   "cell_type": "code",
   "execution_count": 6,
   "id": "9c28804e-f7d0-484c-95f8-c97fc2d0ed27",
   "metadata": {},
   "outputs": [
    {
     "data": {
      "text/plain": [
       "<minsearch.Index at 0x783fb977f3d0>"
      ]
     },
     "execution_count": 6,
     "metadata": {},
     "output_type": "execute_result"
    }
   ],
   "source": [
    "index.fit(documents)"
   ]
  },
  {
   "cell_type": "code",
   "execution_count": 7,
   "id": "39e4b199-bfdf-49e2-989b-1eeb857b4d2d",
   "metadata": {},
   "outputs": [],
   "source": [
    "q = \"the course is already started can i enroll?\""
   ]
  },
  {
   "cell_type": "code",
   "execution_count": 8,
   "id": "7d9fb74c-c05f-445b-8462-7d86d3b01224",
   "metadata": {},
   "outputs": [],
   "source": [
    "boost = {'question': 3.0, 'section': 0.5}\n",
    "result = index.search(\n",
    "    query=q,\n",
    "    filter_dict={'course': 'data-engineering-zoomcamp'},\n",
    "    boost_dict=boost,\n",
    "    num_results=5\n",
    ")"
   ]
  },
  {
   "cell_type": "code",
   "execution_count": 9,
   "id": "1ce3ffe9-89cd-422e-bff1-0771e2e0c252",
   "metadata": {},
   "outputs": [
    {
     "data": {
      "text/plain": [
       "[{'text': 'Yes, we will keep all the materials after the course finishes, so you can follow the course at your own pace after it finishes.\\nYou can also continue looking at the homeworks and continue preparing for the next cohort. I guess you can also start working on your final capstone project.',\n",
       "  'section': 'General course-related questions',\n",
       "  'question': 'Course - Can I follow the course after it finishes?',\n",
       "  'course': 'data-engineering-zoomcamp'},\n",
       " {'text': \"The purpose of this document is to capture frequently asked technical questions\\nThe exact day and hour of the course will be 15th Jan 2024 at 17h00. The course will start with the first  “Office Hours'' live.1\\nSubscribe to course public Google Calendar (it works from Desktop only).\\nRegister before the course starts using this link.\\nJoin the course Telegram channel with announcements.\\nDon’t forget to register in DataTalks.Club's Slack and join the channel.\",\n",
       "  'section': 'General course-related questions',\n",
       "  'question': 'Course - When will the course start?',\n",
       "  'course': 'data-engineering-zoomcamp'},\n",
       " {'text': 'You can start by installing and setting up all the dependencies and requirements:\\nGoogle cloud account\\nGoogle Cloud SDK\\nPython 3 (installed with Anaconda)\\nTerraform\\nGit\\nLook over the prerequisites and syllabus to see if you are comfortable with these subjects.',\n",
       "  'section': 'General course-related questions',\n",
       "  'question': 'Course - What can I do before the course starts?',\n",
       "  'course': 'data-engineering-zoomcamp'},\n",
       " {'text': \"Yes, even if you don't register, you're still eligible to submit the homeworks.\\nBe aware, however, that there will be deadlines for turning in the final projects. So don't leave everything for the last minute.\",\n",
       "  'section': 'General course-related questions',\n",
       "  'question': 'Course - Can I still join the course after the start date?',\n",
       "  'course': 'data-engineering-zoomcamp'},\n",
       " {'text': 'Yes, the slack channel remains open and you can ask questions there. But always sDocker containers exit code w search the channel first and second, check the FAQ (this document), most likely all your questions are already answered here.\\nYou can also tag the bot @ZoomcampQABot to help you conduct the search, but don’t rely on its answers 100%, it is pretty good though.',\n",
       "  'section': 'General course-related questions',\n",
       "  'question': 'Course - Can I get support if I take the course in the self-paced mode?',\n",
       "  'course': 'data-engineering-zoomcamp'}]"
      ]
     },
     "execution_count": 9,
     "metadata": {},
     "output_type": "execute_result"
    }
   ],
   "source": [
    "result"
   ]
  },
  {
   "cell_type": "code",
   "execution_count": 10,
   "id": "b34e3909-b1aa-436d-a30b-6d7295601c8e",
   "metadata": {},
   "outputs": [],
   "source": [
    "from openai import OpenAI"
   ]
  },
  {
   "cell_type": "code",
   "execution_count": 11,
   "id": "e83070b5-5a2b-4114-8033-b1587407c671",
   "metadata": {},
   "outputs": [],
   "source": [
    "client = OpenAI()"
   ]
  },
  {
   "cell_type": "code",
   "execution_count": 12,
   "id": "c14ea258-9c5a-4aad-b139-55cff16c274e",
   "metadata": {},
   "outputs": [],
   "source": [
    "response = client.chat.completions.create(\n",
    "    model='gpt-4o',\n",
    "    messages=[{\"role\": \"user\", \"content\": q}]\n",
    ")"
   ]
  },
  {
   "cell_type": "code",
   "execution_count": 13,
   "id": "015b965e-7cdd-4f4e-834f-84939f291f15",
   "metadata": {},
   "outputs": [],
   "source": [
    "prompt_template = \"\"\"\n",
    "You're a course teaching assistant. Answer the QUESTION based on the CONTEXT from the FAQ database.\n",
    "Use only the facts from the CONTEXT when answering the QUESTION.\n",
    "If the CONTEXT doesn't contain the answer, output NONE.\n",
    "\n",
    "QUESTION: {question}\n",
    "\n",
    "CONTEXT: \n",
    "{context}\n",
    "\"\"\".strip()"
   ]
  },
  {
   "cell_type": "code",
   "execution_count": 14,
   "id": "df95eda3-208b-4584-973e-d391b2d51d62",
   "metadata": {},
   "outputs": [],
   "source": [
    "context = \"\"\n",
    "\n",
    "for doc in result:\n",
    "    context = context + f\"section: {doc['section']}\\nquestion: {doc['question']}\\nanswer: {doc['text']}\\n\\n\"\n",
    "\n",
    "prompt = prompt_template.format(question=q, context=context).strip()"
   ]
  },
  {
   "cell_type": "code",
   "execution_count": 15,
   "id": "570bba5b-98f5-4e51-8447-957dbaef8c43",
   "metadata": {},
   "outputs": [
    {
     "data": {
      "text/plain": [
       "\"Yes, you can still join the course after the start date. Even if you don't register, you're still eligible to submit the homeworks. Be aware, however, that there will be deadlines for turning in the final projects, so don't leave everything for the last minute.\""
      ]
     },
     "execution_count": 15,
     "metadata": {},
     "output_type": "execute_result"
    }
   ],
   "source": [
    "response = client.chat.completions.create(\n",
    "    model='gpt-4o',\n",
    "    messages=[{\"role\": \"user\", \"content\": prompt}]\n",
    ")\n",
    "\n",
    "response.choices[0].message.content"
   ]
  },
  {
   "cell_type": "code",
   "execution_count": 16,
   "id": "eb3fdacc-fde6-4410-9ee9-23cf734049fa",
   "metadata": {},
   "outputs": [],
   "source": [
    "def search(query):\n",
    "    boost = {'question': 3.0, 'section': 0.5}\n",
    "\n",
    "    results = index.search(\n",
    "        query=query,\n",
    "        filter_dict={'course': 'data-engineering-zoomcamp'},\n",
    "        boost_dict=boost,\n",
    "        num_results=5\n",
    "    )\n",
    "\n",
    "    return results"
   ]
  },
  {
   "cell_type": "code",
   "execution_count": 17,
   "id": "23bedf5a-0f8a-423b-80b3-27f952675fce",
   "metadata": {},
   "outputs": [],
   "source": [
    "def build_prompt(query, search_results):\n",
    "    prompt_template = \"\"\"\n",
    "You're a course teaching assistant. Answer the QUESTION based on the CONTEXT from the FAQ database.\n",
    "Use only the facts from the CONTEXT when answering the QUESTION.\n",
    "\n",
    "QUESTION: {question}\n",
    "\n",
    "CONTEXT: \n",
    "{context}\n",
    "\"\"\".strip()\n",
    "\n",
    "    context = \"\"\n",
    "    \n",
    "    for doc in search_results:\n",
    "        context = context + f\"section: {doc['section']}\\nquestion: {doc['question']}\\nanswer: {doc['text']}\\n\\n\"\n",
    "    \n",
    "    prompt = prompt_template.format(question=query, context=context).strip()\n",
    "    return prompt"
   ]
  },
  {
   "cell_type": "code",
   "execution_count": 18,
   "id": "ac853e75-7fc8-4e24-a6ce-5a147f52257d",
   "metadata": {},
   "outputs": [],
   "source": [
    "def llm(prompt):\n",
    "    response = client.chat.completions.create(\n",
    "        model='gpt-4o',\n",
    "        messages=[{\"role\": \"user\", \"content\": prompt}]\n",
    "    )\n",
    "    \n",
    "    return response.choices[0].message.content"
   ]
  },
  {
   "cell_type": "code",
   "execution_count": 19,
   "id": "0f68d842-b8f5-4ad2-a631-9b1cf029a7fb",
   "metadata": {},
   "outputs": [],
   "source": [
    "query = 'how do I run kafka?'\n",
    "\n",
    "def rag(query):\n",
    "    search_results = search(query)\n",
    "    prompt = build_prompt(query, search_results)\n",
    "    answer = llm(prompt)\n",
    "    return answer"
   ]
  },
  {
   "cell_type": "code",
   "execution_count": 20,
   "id": "26f292ea-d2c6-4dfd-a353-7235278b43df",
   "metadata": {},
   "outputs": [
    {
     "data": {
      "text/plain": [
       "'To run Kafka with Java, navigate to your project directory and execute the following command in the terminal:\\n\\n```bash\\njava -cp build/libs/<jar_name>-1.0-SNAPSHOT.jar:out src/main/java/org/example/JsonProducer.java\\n```\\n\\nMake sure to replace `<jar_name>` with the actual name of your JAR file.'"
      ]
     },
     "execution_count": 20,
     "metadata": {},
     "output_type": "execute_result"
    }
   ],
   "source": [
    "rag(query)"
   ]
  },
  {
   "cell_type": "code",
   "execution_count": 21,
   "id": "9cf11bbb-45fd-448f-ae7f-c0ecf0cf19be",
   "metadata": {},
   "outputs": [
    {
     "data": {
      "text/plain": [
       "{'text': \"The purpose of this document is to capture frequently asked technical questions\\nThe exact day and hour of the course will be 15th Jan 2024 at 17h00. The course will start with the first  “Office Hours'' live.1\\nSubscribe to course public Google Calendar (it works from Desktop only).\\nRegister before the course starts using this link.\\nJoin the course Telegram channel with announcements.\\nDon’t forget to register in DataTalks.Club's Slack and join the channel.\",\n",
       " 'section': 'General course-related questions',\n",
       " 'question': 'Course - When will the course start?',\n",
       " 'course': 'data-engineering-zoomcamp'}"
      ]
     },
     "execution_count": 21,
     "metadata": {},
     "output_type": "execute_result"
    }
   ],
   "source": [
    "documents[0]"
   ]
  },
  {
   "cell_type": "code",
   "execution_count": 22,
   "id": "bda1c4f4-9eff-47e7-9458-2828751fc825",
   "metadata": {},
   "outputs": [],
   "source": [
    "from elasticsearch import Elasticsearch"
   ]
  },
  {
   "cell_type": "code",
   "execution_count": 24,
   "id": "65dc45fd-cd72-467b-8fe2-8ad4761bcfa6",
   "metadata": {},
   "outputs": [],
   "source": [
    "es_client = Elasticsearch('http://localhost:9200')"
   ]
  },
  {
   "cell_type": "code",
   "execution_count": 29,
   "id": "5c21551c-00b8-41fa-b0be-0df3391e4cab",
   "metadata": {},
   "outputs": [
    {
     "data": {
      "text/plain": [
       "ObjectApiResponse({'acknowledged': True, 'shards_acknowledged': True, 'index': 'course_questions'})"
      ]
     },
     "execution_count": 29,
     "metadata": {},
     "output_type": "execute_result"
    }
   ],
   "source": [
    "index_settings = {\n",
    "    \"settings\": {\n",
    "        \"number_of_shards\": 1,\n",
    "        \"number_of_replicas\": 0\n",
    "    },\n",
    "    \"mappings\": {\n",
    "        \"properties\": {\n",
    "            \"text\": {\"type\": \"text\"},\n",
    "            \"section\": {\"type\": \"text\"},\n",
    "            \"question\": {\"type\": \"text\"},\n",
    "            \"course\": {\"type\": \"keyword\"} \n",
    "        }\n",
    "    }\n",
    "}\n",
    "\n",
    "index_name = \"course_questions\"\n",
    "\n",
    "es_client.indices.create(index=index_name, body=index_settings)"
   ]
  },
  {
   "cell_type": "code",
   "execution_count": 30,
   "id": "6b3716cb-be37-4bc6-ba0f-8bfb2951ba61",
   "metadata": {},
   "outputs": [
    {
     "name": "stderr",
     "output_type": "stream",
     "text": [
      "/usr/local/python/3.10.13/lib/python3.10/site-packages/tqdm/auto.py:21: TqdmWarning: IProgress not found. Please update jupyter and ipywidgets. See https://ipywidgets.readthedocs.io/en/stable/user_install.html\n",
      "  from .autonotebook import tqdm as notebook_tqdm\n"
     ]
    }
   ],
   "source": [
    "from tqdm.auto import tqdm"
   ]
  },
  {
   "cell_type": "code",
   "execution_count": 31,
   "id": "7356c3a2-bcd9-4fbc-b2e3-18c825cba647",
   "metadata": {},
   "outputs": [
    {
     "name": "stderr",
     "output_type": "stream",
     "text": [
      "100%|██████████████████████████████████████████████████████████████████████████| 948/948 [00:23<00:00, 39.64it/s]\n"
     ]
    }
   ],
   "source": [
    "for doc in tqdm(documents):\n",
    "    es_client.index(index=index_name, document=doc)"
   ]
  },
  {
   "cell_type": "code",
   "execution_count": 42,
   "id": "4a911dff-833c-43ee-8269-9f36a8bf6c5f",
   "metadata": {},
   "outputs": [],
   "source": [
    "query = 'How do I execute a command in a running docker container?'"
   ]
  },
  {
   "cell_type": "code",
   "execution_count": 49,
   "id": "31e909ac-d134-4404-b5a9-f5c5e0783a63",
   "metadata": {},
   "outputs": [],
   "source": [
    "search_query = {\n",
    "    \"size\": 3,\n",
    "    \"query\": {\n",
    "        \"bool\": {\n",
    "            \"must\": {\n",
    "                \"multi_match\": {\n",
    "                    \"query\": query,\n",
    "                    \"fields\": [\"question^4\", \"text\"],\n",
    "                    \"type\": \"best_fields\"\n",
    "                }\n",
    "            },\n",
    "            \"filter\": {\n",
    "                \"term\": {\n",
    "                    \"course\": \"machine-learning-zoomcamp\"\n",
    "                }\n",
    "            }\n",
    "        }\n",
    "    }\n",
    "}"
   ]
  },
  {
   "cell_type": "code",
   "execution_count": 50,
   "id": "71822fe0-eaf0-4f7d-90dc-79cb32d6c514",
   "metadata": {},
   "outputs": [],
   "source": [
    "response = es_client.search(index=index_name, body=search_query)"
   ]
  },
  {
   "cell_type": "code",
   "execution_count": 51,
   "id": "447e3b10-0280-4878-857c-b8a6f6827b51",
   "metadata": {},
   "outputs": [
    {
     "data": {
      "text/plain": [
       "ObjectApiResponse({'took': 9, 'timed_out': False, '_shards': {'total': 1, 'successful': 1, 'skipped': 0, 'failed': 0}, 'hits': {'total': {'value': 345, 'relation': 'eq'}, 'max_score': 84.050095, 'hits': [{'_index': 'course_questions', '_id': 'gcWsaJABHrN2yvqxk6WN', '_score': 84.050095, '_source': {'text': 'Launch the container image in interactive mode and overriding the entrypoint, so that it starts a bash command.\\ndocker run -it --entrypoint bash <image>\\nIf the container is already running, execute a command in the specific container:\\ndocker ps (find the container-id)\\ndocker exec -it <container-id> bash\\n(Marcos MJD)', 'section': '5. Deploying Machine Learning Models', 'question': 'How do I debug a docker container?', 'course': 'machine-learning-zoomcamp'}}, {'_index': 'course_questions', '_id': 'oMWsaJABHrN2yvqxlqWo', '_score': 51.04628, '_source': {'text': \"You can copy files from your local machine into a Docker container using the docker cp command. Here's how to do it:\\nTo copy a file or directory from your local machine into a running Docker container, you can use the `docker cp command`. The basic syntax is as follows:\\ndocker cp /path/to/local/file_or_directory container_id:/path/in/container\\nHrithik Kumar Advani\", 'section': '5. Deploying Machine Learning Models', 'question': 'How do I copy files from my local machine to docker container?', 'course': 'machine-learning-zoomcamp'}}, {'_index': 'course_questions', '_id': 'ocWsaJABHrN2yvqxlqXB', '_score': 49.938507, '_source': {'text': 'You can copy files from your local machine into a Docker container using the docker cp command. Here\\'s how to do it:\\nIn the Dockerfile, you can provide the folder containing the files that you want to copy over. The basic syntax is as follows:\\nCOPY [\"src/predict.py\", \"models/xgb_model.bin\", \"./\"]\\t\\t\\t\\t\\t\\t\\t\\t\\t\\t\\tGopakumar Gopinathan', 'section': '5. Deploying Machine Learning Models', 'question': 'How do I copy files from a different folder into docker container’s working directory?', 'course': 'machine-learning-zoomcamp'}}]}})"
      ]
     },
     "execution_count": 51,
     "metadata": {},
     "output_type": "execute_result"
    }
   ],
   "source": [
    "response"
   ]
  },
  {
   "cell_type": "code",
   "execution_count": 52,
   "id": "da597ac5-7967-490f-bdc9-df2d1380a15d",
   "metadata": {},
   "outputs": [],
   "source": [
    "result_docs = []\n",
    "for hit in response['hits']['hits']:\n",
    "    result_docs.append(hit['_source'])"
   ]
  },
  {
   "cell_type": "code",
   "execution_count": 53,
   "id": "75f00f7b-23be-463f-a79a-0e204b564c37",
   "metadata": {},
   "outputs": [],
   "source": [
    "def rag(query):\n",
    "    search_results = search(query)\n",
    "    prompt = build_prompt(query, search_results)\n",
    "    answer = llm(prompt)\n",
    "    return answer"
   ]
  },
  {
   "cell_type": "code",
   "execution_count": 54,
   "id": "b78d48c7-4473-4b76-bcf2-fae06b258dba",
   "metadata": {},
   "outputs": [
    {
     "data": {
      "text/plain": [
       "[{'text': 'Launch the container image in interactive mode and overriding the entrypoint, so that it starts a bash command.\\ndocker run -it --entrypoint bash <image>\\nIf the container is already running, execute a command in the specific container:\\ndocker ps (find the container-id)\\ndocker exec -it <container-id> bash\\n(Marcos MJD)',\n",
       "  'section': '5. Deploying Machine Learning Models',\n",
       "  'question': 'How do I debug a docker container?',\n",
       "  'course': 'machine-learning-zoomcamp'},\n",
       " {'text': \"You can copy files from your local machine into a Docker container using the docker cp command. Here's how to do it:\\nTo copy a file or directory from your local machine into a running Docker container, you can use the `docker cp command`. The basic syntax is as follows:\\ndocker cp /path/to/local/file_or_directory container_id:/path/in/container\\nHrithik Kumar Advani\",\n",
       "  'section': '5. Deploying Machine Learning Models',\n",
       "  'question': 'How do I copy files from my local machine to docker container?',\n",
       "  'course': 'machine-learning-zoomcamp'},\n",
       " {'text': 'You can copy files from your local machine into a Docker container using the docker cp command. Here\\'s how to do it:\\nIn the Dockerfile, you can provide the folder containing the files that you want to copy over. The basic syntax is as follows:\\nCOPY [\"src/predict.py\", \"models/xgb_model.bin\", \"./\"]\\t\\t\\t\\t\\t\\t\\t\\t\\t\\t\\tGopakumar Gopinathan',\n",
       "  'section': '5. Deploying Machine Learning Models',\n",
       "  'question': 'How do I copy files from a different folder into docker container’s working directory?',\n",
       "  'course': 'machine-learning-zoomcamp'}]"
      ]
     },
     "execution_count": 54,
     "metadata": {},
     "output_type": "execute_result"
    }
   ],
   "source": [
    "result_docs"
   ]
  },
  {
   "cell_type": "code",
   "execution_count": 55,
   "id": "f67290b4-dd28-4f9d-8174-b205627b756d",
   "metadata": {},
   "outputs": [],
   "source": [
    "context_template = \"\"\"\n",
    "Q: {question}\n",
    "A: {text}\n",
    "\"\"\".strip()\n",
    "\n",
    "def build_elastic_prompt(query, search_results):\n",
    "    prompt_template = \"\"\"\n",
    "You're a course teaching assistant. Answer the QUESTION based on the CONTEXT from the FAQ database.\n",
    "Use only the facts from the CONTEXT when answering the QUESTION.\n",
    "\n",
    "QUESTION: {question}\n",
    "\n",
    "CONTEXT:\n",
    "{context}\n",
    "\"\"\".strip()\n",
    "\n",
    "    context = \"\"\n",
    "    \n",
    "    for doc in search_results:\n",
    "        context = context + f\"question: {doc['question']}\\nanswer: {doc['text']}\\n\\n\"\n",
    "    \n",
    "    prompt = prompt_template.format(question=query, context=context).strip()\n",
    "    return prompt"
   ]
  },
  {
   "cell_type": "code",
   "execution_count": 58,
   "id": "8270ac9f-244e-492e-a507-0ded35ad0f69",
   "metadata": {},
   "outputs": [
    {
     "data": {
      "text/plain": [
       "1498"
      ]
     },
     "execution_count": 58,
     "metadata": {},
     "output_type": "execute_result"
    }
   ],
   "source": [
    "len(build_elastic_prompt(query, result_docs))"
   ]
  },
  {
   "cell_type": "code",
   "execution_count": 60,
   "id": "28aaf2b6-2ac8-448f-ace0-0bd39ad3cceb",
   "metadata": {},
   "outputs": [],
   "source": [
    "import tiktoken"
   ]
  },
  {
   "cell_type": "code",
   "execution_count": 61,
   "id": "65ac7f2d-254e-4251-b46f-6bb41b704335",
   "metadata": {},
   "outputs": [],
   "source": [
    "encoding = tiktoken.encoding_for_model(\"gpt-4o\")"
   ]
  },
  {
   "cell_type": "code",
   "execution_count": 63,
   "id": "2579c063-1804-4681-924b-70c670a14a62",
   "metadata": {},
   "outputs": [
    {
     "data": {
      "text/plain": [
       "[63842,\n",
       " 261,\n",
       " 4165,\n",
       " 14029,\n",
       " 29186,\n",
       " 13,\n",
       " 30985,\n",
       " 290,\n",
       " 150339,\n",
       " 4122,\n",
       " 402,\n",
       " 290,\n",
       " 31810,\n",
       " 8099,\n",
       " 591,\n",
       " 290,\n",
       " 40251,\n",
       " 7862,\n",
       " 558,\n",
       " 8470,\n",
       " 1606,\n",
       " 290,\n",
       " 19719,\n",
       " 591,\n",
       " 290,\n",
       " 31810,\n",
       " 8099,\n",
       " 1261,\n",
       " 55959,\n",
       " 290,\n",
       " 150339,\n",
       " 364,\n",
       " 107036,\n",
       " 25,\n",
       " 3253,\n",
       " 621,\n",
       " 357,\n",
       " 15792,\n",
       " 261,\n",
       " 6348,\n",
       " 306,\n",
       " 261,\n",
       " 6788,\n",
       " 62275,\n",
       " 9282,\n",
       " 1715,\n",
       " 10637,\n",
       " 50738,\n",
       " 734,\n",
       " 14921,\n",
       " 25,\n",
       " 3253,\n",
       " 621,\n",
       " 357,\n",
       " 15199,\n",
       " 261,\n",
       " 62275,\n",
       " 9282,\n",
       " 3901,\n",
       " 17021,\n",
       " 25,\n",
       " 41281,\n",
       " 290,\n",
       " 9282,\n",
       " 3621,\n",
       " 306,\n",
       " 25383,\n",
       " 6766,\n",
       " 326,\n",
       " 151187,\n",
       " 290,\n",
       " 7251,\n",
       " 4859,\n",
       " 11,\n",
       " 813,\n",
       " 484,\n",
       " 480,\n",
       " 13217,\n",
       " 261,\n",
       " 38615,\n",
       " 6348,\n",
       " 558,\n",
       " 68923,\n",
       " 2461,\n",
       " 533,\n",
       " 278,\n",
       " 2230,\n",
       " 7962,\n",
       " 4859,\n",
       " 38615,\n",
       " 464,\n",
       " 3365,\n",
       " 523,\n",
       " 3335,\n",
       " 290,\n",
       " 9282,\n",
       " 382,\n",
       " 4279,\n",
       " 6788,\n",
       " 11,\n",
       " 15792,\n",
       " 261,\n",
       " 6348,\n",
       " 306,\n",
       " 290,\n",
       " 4857,\n",
       " 9282,\n",
       " 734,\n",
       " 68923,\n",
       " 10942,\n",
       " 350,\n",
       " 6555,\n",
       " 290,\n",
       " 9282,\n",
       " 26240,\n",
       " 446,\n",
       " 68923,\n",
       " 25398,\n",
       " 533,\n",
       " 278,\n",
       " 464,\n",
       " 6896,\n",
       " 26240,\n",
       " 29,\n",
       " 38615,\n",
       " 198,\n",
       " 6103,\n",
       " 277,\n",
       " 10732,\n",
       " 391,\n",
       " 79771,\n",
       " 1029,\n",
       " 14921,\n",
       " 25,\n",
       " 3253,\n",
       " 621,\n",
       " 357,\n",
       " 5150,\n",
       " 6291,\n",
       " 591,\n",
       " 922,\n",
       " 2698,\n",
       " 7342,\n",
       " 316,\n",
       " 62275,\n",
       " 9282,\n",
       " 3901,\n",
       " 17021,\n",
       " 25,\n",
       " 1608,\n",
       " 665,\n",
       " 5150,\n",
       " 6291,\n",
       " 591,\n",
       " 634,\n",
       " 2698,\n",
       " 7342,\n",
       " 1511,\n",
       " 261,\n",
       " 91238,\n",
       " 9282,\n",
       " 2360,\n",
       " 290,\n",
       " 62275,\n",
       " 27776,\n",
       " 6348,\n",
       " 13,\n",
       " 44257,\n",
       " 1495,\n",
       " 316,\n",
       " 621,\n",
       " 480,\n",
       " 734,\n",
       " 1385,\n",
       " 5150,\n",
       " 261,\n",
       " 1974,\n",
       " 503,\n",
       " 12552,\n",
       " 591,\n",
       " 634,\n",
       " 2698,\n",
       " 7342,\n",
       " 1511,\n",
       " 261,\n",
       " 6788,\n",
       " 91238,\n",
       " 9282,\n",
       " 11,\n",
       " 481,\n",
       " 665,\n",
       " 1199,\n",
       " 290,\n",
       " 2700,\n",
       " 68923,\n",
       " 27776,\n",
       " 6348,\n",
       " 62102,\n",
       " 623,\n",
       " 9439,\n",
       " 45440,\n",
       " 382,\n",
       " 472,\n",
       " 18183,\n",
       " 734,\n",
       " 68923,\n",
       " 27776,\n",
       " 820,\n",
       " 4189,\n",
       " 72231,\n",
       " 52214,\n",
       " 51766,\n",
       " 15400,\n",
       " 35850,\n",
       " 9282,\n",
       " 1537,\n",
       " 27975,\n",
       " 4189,\n",
       " 26985,\n",
       " 190543,\n",
       " 198,\n",
       " 106096,\n",
       " 437,\n",
       " 507,\n",
       " 70737,\n",
       " 15241,\n",
       " 3048,\n",
       " 279,\n",
       " 14921,\n",
       " 25,\n",
       " 3253,\n",
       " 621,\n",
       " 357,\n",
       " 5150,\n",
       " 6291,\n",
       " 591,\n",
       " 261,\n",
       " 2647,\n",
       " 15610,\n",
       " 1511,\n",
       " 62275,\n",
       " 9282,\n",
       " 802,\n",
       " 4113,\n",
       " 12552,\n",
       " 3901,\n",
       " 17021,\n",
       " 25,\n",
       " 1608,\n",
       " 665,\n",
       " 5150,\n",
       " 6291,\n",
       " 591,\n",
       " 634,\n",
       " 2698,\n",
       " 7342,\n",
       " 1511,\n",
       " 261,\n",
       " 91238,\n",
       " 9282,\n",
       " 2360,\n",
       " 290,\n",
       " 62275,\n",
       " 27776,\n",
       " 6348,\n",
       " 13,\n",
       " 44257,\n",
       " 1495,\n",
       " 316,\n",
       " 621,\n",
       " 480,\n",
       " 734,\n",
       " 637,\n",
       " 290,\n",
       " 91238,\n",
       " 2318,\n",
       " 11,\n",
       " 481,\n",
       " 665,\n",
       " 3587,\n",
       " 290,\n",
       " 15610,\n",
       " 15683,\n",
       " 290,\n",
       " 6291,\n",
       " 484,\n",
       " 481,\n",
       " 1682,\n",
       " 316,\n",
       " 5150,\n",
       " 1072,\n",
       " 13,\n",
       " 623,\n",
       " 9439,\n",
       " 45440,\n",
       " 382,\n",
       " 472,\n",
       " 18183,\n",
       " 734,\n",
       " 128701,\n",
       " 9129,\n",
       " 7205,\n",
       " 8138,\n",
       " 21369,\n",
       " 17311,\n",
       " 672,\n",
       " 392,\n",
       " 13123,\n",
       " 22739,\n",
       " 9320,\n",
       " 10928,\n",
       " 69422,\n",
       " 672,\n",
       " 9633,\n",
       " 2601,\n",
       " 14973,\n",
       " 22713,\n",
       " 167296,\n",
       " 30463,\n",
       " 499,\n",
       " 137058,\n",
       " 22064]"
      ]
     },
     "execution_count": 63,
     "metadata": {},
     "output_type": "execute_result"
    }
   ],
   "source": [
    "prompt = build_elastic_prompt(query, result_docs)\n",
    "encoding.encode(prompt)"
   ]
  },
  {
   "cell_type": "code",
   "execution_count": null,
   "id": "5426afc0-a139-4305-a8db-0433f79784b5",
   "metadata": {},
   "outputs": [],
   "source": []
  }
 ],
 "metadata": {
  "kernelspec": {
   "display_name": "Python 3 (ipykernel)",
   "language": "python",
   "name": "python3"
  },
  "language_info": {
   "codemirror_mode": {
    "name": "ipython",
    "version": 3
   },
   "file_extension": ".py",
   "mimetype": "text/x-python",
   "name": "python",
   "nbconvert_exporter": "python",
   "pygments_lexer": "ipython3",
   "version": "3.10.13"
  }
 },
 "nbformat": 4,
 "nbformat_minor": 5
}
